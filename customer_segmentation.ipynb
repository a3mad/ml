{
  "nbformat": 4,
  "nbformat_minor": 0,
  "metadata": {
    "colab": {
      "provenance": [],
      "authorship_tag": "ABX9TyOJPYKaXty1qc/YhXd2sDQH",
      "include_colab_link": true
    },
    "kernelspec": {
      "name": "python3",
      "display_name": "Python 3"
    },
    "language_info": {
      "name": "python"
    }
  },
  "cells": [
    {
      "cell_type": "markdown",
      "metadata": {
        "id": "view-in-github",
        "colab_type": "text"
      },
      "source": [
        "<a href=\"https://colab.research.google.com/github/a3mad/ml/blob/main/customer_segmentation.ipynb\" target=\"_parent\"><img src=\"https://colab.research.google.com/assets/colab-badge.svg\" alt=\"Open In Colab\"/></a>"
      ]
    },
    {
      "cell_type": "code",
      "source": [
        "from models.financial_model import train_financial_model\n",
        "from models.demographic_model import train_demographic_model\n",
        "from models.behavior_model import train_behavior_model\n",
        "from models.communication_model import train_communication_model\n",
        "from models.customer_value_model import train_customer_value_model\n",
        "from models.segmentation_model import train_segmentation_model\n",
        "from models.marketing_model import train_marketing_model\n",
        "from models.premium_model import train_premium_model\n",
        "import pandas as pd\n",
        "\n",
        "\n",
        "\n",
        "def main():\n",
        "  file_path = '/content/customer_segmentation_data.csv'\n",
        "  data = pd.read_csv(file_path)\n",
        "  financial_model = train_financial_model(data)\n",
        "  demographic_model = train_demographic_model(data)\n",
        "  behavior_model = train_behavior_model(data)\n",
        "  communication_model = train_communication_model(data)\n",
        "  customer_value_model = train_customer_value_model(data)\n",
        "  segmentation_model = train_segmentation_model(data)\n",
        "  marketing_model = train_marketing_model(data)\n",
        "  premium_model = train_premium_model(data)\n",
        "\n",
        "  # Example of making predictions with one of the models\n",
        "  predictions = financial_model.predict(data)\n",
        "  print(predictions)\n",
        "\n",
        "  #applying the model to data\n",
        "  data['Financial Cluster'] = financial_model['clustering'].labels_\n",
        "  data['Demographic Cluster'] = demographic_model['clustering'].labels_\n",
        "  print(data[['Customer ID', 'Financial Cluster', 'Demographic Cluster']].head())\n",
        "\n",
        "if __name__ == '__main__':\n",
        "    main()\n",
        "\n"
      ],
      "metadata": {
        "colab": {
          "base_uri": "https://localhost:8080/"
        },
        "id": "10UET4jBGFkd",
        "outputId": "0a4a32ae-950d-49be-f8a1-5e5295874a2e"
      },
      "execution_count": 73,
      "outputs": [
        {
          "output_type": "stream",
          "name": "stdout",
          "text": [
            "[0 0 1 ... 1 1 2]\n",
            "   Customer ID  Financial Cluster  Demographic Cluster\n",
            "0        84966                  0                    0\n",
            "1        95568                  0                    0\n",
            "2        10544                  1                    0\n",
            "3        77033                  1                    0\n",
            "4        88160                  0                    0\n"
          ]
        }
      ]
    }
  ]
}